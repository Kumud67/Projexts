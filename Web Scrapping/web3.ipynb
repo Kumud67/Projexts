{
 "cells": [
  {
   "cell_type": "code",
   "execution_count": 1,
   "id": "43d1ab95-c81d-4771-adf0-89fe3de4ec4a",
   "metadata": {},
   "outputs": [
    {
     "name": "stderr",
     "output_type": "stream",
     "text": [
      "C:\\Users\\kumud\\AppData\\Local\\Temp\\ipykernel_3656\\4236444723.py:3: DeprecationWarning: \n",
      "Pyarrow will become a required dependency of pandas in the next major release of pandas (pandas 3.0),\n",
      "(to allow more performant data types, such as the Arrow string type, and better interoperability with other libraries)\n",
      "but was not found to be installed on your system.\n",
      "If this would cause problems for you,\n",
      "please provide us feedback at https://github.com/pandas-dev/pandas/issues/54466\n",
      "        \n",
      "  import pandas as pd\n"
     ]
    }
   ],
   "source": [
    "from bs4 import BeautifulSoup\n",
    "import requests\n",
    "import pandas as pd"
   ]
  },
  {
   "cell_type": "code",
   "execution_count": 3,
   "id": "e166cd88-5ebb-4b3e-9271-42d4b6a1e8d8",
   "metadata": {},
   "outputs": [],
   "source": [
    "web_page=requests.get(\"https://en.wikipedia.org/wiki/List_of_companies_of_India\")"
   ]
  },
  {
   "cell_type": "code",
   "execution_count": 5,
   "id": "a6ef2555-fc9f-45a9-a2b2-622b8426eda4",
   "metadata": {},
   "outputs": [],
   "source": [
    " text_data=BeautifulSoup(web_page.text,\"html\")"
   ]
  },
  {
   "cell_type": "code",
   "execution_count": 10,
   "id": "9258fbce-ac18-4b71-8a10-64eee111e448",
   "metadata": {},
   "outputs": [],
   "source": [
    "table=text_data.find_all(\"table\")[1]"
   ]
  },
  {
   "cell_type": "code",
   "execution_count": 13,
   "id": "ee1bfc23-0f8e-440e-b6eb-5bab67029784",
   "metadata": {},
   "outputs": [],
   "source": [
    "column_names=table.find_all(\"th\")"
   ]
  },
  {
   "cell_type": "code",
   "execution_count": 19,
   "id": "dd02c61f-9617-4d24-8ff5-3c2c12c25d33",
   "metadata": {},
   "outputs": [],
   "source": [
    "columns_list=[names.text.strip() for names in column_names]\n"
   ]
  },
  {
   "cell_type": "code",
   "execution_count": 45,
   "id": "b66e4278-1f72-4cd4-a65a-f06e45ecebe6",
   "metadata": {},
   "outputs": [
    {
     "data": {
      "text/html": [
       "<div>\n",
       "<style scoped>\n",
       "    .dataframe tbody tr th:only-of-type {\n",
       "        vertical-align: middle;\n",
       "    }\n",
       "\n",
       "    .dataframe tbody tr th {\n",
       "        vertical-align: top;\n",
       "    }\n",
       "\n",
       "    .dataframe thead th {\n",
       "        text-align: right;\n",
       "    }\n",
       "</style>\n",
       "<table border=\"1\" class=\"dataframe\">\n",
       "  <thead>\n",
       "    <tr style=\"text-align: right;\">\n",
       "      <th></th>\n",
       "      <th>Name</th>\n",
       "      <th>Industry</th>\n",
       "      <th>Sector</th>\n",
       "      <th>Headquarters</th>\n",
       "      <th>Founded</th>\n",
       "      <th>Notes</th>\n",
       "    </tr>\n",
       "  </thead>\n",
       "  <tbody>\n",
       "  </tbody>\n",
       "</table>\n",
       "</div>"
      ],
      "text/plain": [
       "Empty DataFrame\n",
       "Columns: [Name, Industry, Sector, Headquarters, Founded, Notes]\n",
       "Index: []"
      ]
     },
     "execution_count": 45,
     "metadata": {},
     "output_type": "execute_result"
    }
   ],
   "source": [
    "df=pd.DataFrame(columns=columns_list)\n",
    "df"
   ]
  },
  {
   "cell_type": "code",
   "execution_count": 46,
   "id": "8aacb430-c408-4c36-ab79-29391c18f641",
   "metadata": {},
   "outputs": [],
   "source": [
    "column_data=table.find_all(\"tr\")"
   ]
  },
  {
   "cell_type": "code",
   "execution_count": 47,
   "id": "1cece284-71ed-4405-83bf-56231ac49e4c",
   "metadata": {},
   "outputs": [],
   "source": [
    "for data in column_data[1:]:\n",
    "    rows_data=data.find_all(\"td\")\n",
    "    individual_rows_data=[data.text.strip() for data in rows_data]\n",
    "    length=len(df)\n",
    "    df.loc[length]=individual_rows_data"
   ]
  },
  {
   "cell_type": "code",
   "execution_count": 48,
   "id": "781cf700-acc1-46fe-857c-7a7706ca6d9b",
   "metadata": {},
   "outputs": [
    {
     "data": {
      "text/html": [
       "<div>\n",
       "<style scoped>\n",
       "    .dataframe tbody tr th:only-of-type {\n",
       "        vertical-align: middle;\n",
       "    }\n",
       "\n",
       "    .dataframe tbody tr th {\n",
       "        vertical-align: top;\n",
       "    }\n",
       "\n",
       "    .dataframe thead th {\n",
       "        text-align: right;\n",
       "    }\n",
       "</style>\n",
       "<table border=\"1\" class=\"dataframe\">\n",
       "  <thead>\n",
       "    <tr style=\"text-align: right;\">\n",
       "      <th></th>\n",
       "      <th>Name</th>\n",
       "      <th>Industry</th>\n",
       "      <th>Sector</th>\n",
       "      <th>Headquarters</th>\n",
       "      <th>Founded</th>\n",
       "      <th>Notes</th>\n",
       "    </tr>\n",
       "  </thead>\n",
       "  <tbody>\n",
       "    <tr>\n",
       "      <th>0</th>\n",
       "      <td>Aban Offshore</td>\n",
       "      <td>Oil &amp; gas</td>\n",
       "      <td>Exploration &amp; production</td>\n",
       "      <td>Chennai</td>\n",
       "      <td>1986</td>\n",
       "      <td>Oil, petrochemical</td>\n",
       "    </tr>\n",
       "    <tr>\n",
       "      <th>1</th>\n",
       "      <td>ABG Shipyard</td>\n",
       "      <td>Industrials</td>\n",
       "      <td>Shipbuilding</td>\n",
       "      <td>Ahmedabad</td>\n",
       "      <td>1985</td>\n",
       "      <td>Ship engineering</td>\n",
       "    </tr>\n",
       "    <tr>\n",
       "      <th>2</th>\n",
       "      <td>ABP Group</td>\n",
       "      <td>Consumer services</td>\n",
       "      <td>Broadcasting &amp; entertainment</td>\n",
       "      <td>Kolkata</td>\n",
       "      <td>1922</td>\n",
       "      <td>Media, news</td>\n",
       "    </tr>\n",
       "    <tr>\n",
       "      <th>3</th>\n",
       "      <td>ACC Limited</td>\n",
       "      <td>Industrials</td>\n",
       "      <td>Building materials &amp; fixtures</td>\n",
       "      <td>Mumbai</td>\n",
       "      <td>1936</td>\n",
       "      <td>Cement</td>\n",
       "    </tr>\n",
       "    <tr>\n",
       "      <th>4</th>\n",
       "      <td>ACG Group</td>\n",
       "      <td>Conglomerate</td>\n",
       "      <td>Pharmaceutical materials &amp; machinery</td>\n",
       "      <td>Mumbai</td>\n",
       "      <td>1961</td>\n",
       "      <td>Machinery</td>\n",
       "    </tr>\n",
       "    <tr>\n",
       "      <th>...</th>\n",
       "      <td>...</td>\n",
       "      <td>...</td>\n",
       "      <td>...</td>\n",
       "      <td>...</td>\n",
       "      <td>...</td>\n",
       "      <td>...</td>\n",
       "    </tr>\n",
       "    <tr>\n",
       "      <th>475</th>\n",
       "      <td>Zee News</td>\n",
       "      <td>Consumer services</td>\n",
       "      <td>Broadcasting &amp; entertainment</td>\n",
       "      <td>Mumbai</td>\n",
       "      <td>1999</td>\n",
       "      <td>News channel</td>\n",
       "    </tr>\n",
       "    <tr>\n",
       "      <th>476</th>\n",
       "      <td>Zensar Technologies</td>\n",
       "      <td>Technology</td>\n",
       "      <td>Software</td>\n",
       "      <td>Pune</td>\n",
       "      <td>1991</td>\n",
       "      <td>IT services and software</td>\n",
       "    </tr>\n",
       "    <tr>\n",
       "      <th>477</th>\n",
       "      <td>Zeta</td>\n",
       "      <td>Finance</td>\n",
       "      <td>Fintech</td>\n",
       "      <td>Mumbai</td>\n",
       "      <td>2015</td>\n",
       "      <td>Fintech</td>\n",
       "    </tr>\n",
       "    <tr>\n",
       "      <th>478</th>\n",
       "      <td>Zoho Corporation</td>\n",
       "      <td>Technology</td>\n",
       "      <td>Software</td>\n",
       "      <td>Chennai</td>\n",
       "      <td>1996</td>\n",
       "      <td>Business management software</td>\n",
       "    </tr>\n",
       "    <tr>\n",
       "      <th>479</th>\n",
       "      <td>Zomato</td>\n",
       "      <td>Technology</td>\n",
       "      <td>Internet</td>\n",
       "      <td>Gurugram</td>\n",
       "      <td>2008</td>\n",
       "      <td>Food delivery</td>\n",
       "    </tr>\n",
       "  </tbody>\n",
       "</table>\n",
       "<p>480 rows × 6 columns</p>\n",
       "</div>"
      ],
      "text/plain": [
       "                    Name           Industry  \\\n",
       "0          Aban Offshore          Oil & gas   \n",
       "1           ABG Shipyard        Industrials   \n",
       "2              ABP Group  Consumer services   \n",
       "3            ACC Limited        Industrials   \n",
       "4              ACG Group       Conglomerate   \n",
       "..                   ...                ...   \n",
       "475             Zee News  Consumer services   \n",
       "476  Zensar Technologies         Technology   \n",
       "477                 Zeta            Finance   \n",
       "478     Zoho Corporation         Technology   \n",
       "479               Zomato         Technology   \n",
       "\n",
       "                                   Sector Headquarters Founded  \\\n",
       "0                Exploration & production      Chennai    1986   \n",
       "1                            Shipbuilding    Ahmedabad    1985   \n",
       "2            Broadcasting & entertainment      Kolkata    1922   \n",
       "3           Building materials & fixtures       Mumbai    1936   \n",
       "4    Pharmaceutical materials & machinery       Mumbai    1961   \n",
       "..                                    ...          ...     ...   \n",
       "475          Broadcasting & entertainment       Mumbai    1999   \n",
       "476                              Software         Pune    1991   \n",
       "477                               Fintech       Mumbai    2015   \n",
       "478                              Software      Chennai    1996   \n",
       "479                              Internet     Gurugram    2008   \n",
       "\n",
       "                            Notes  \n",
       "0              Oil, petrochemical  \n",
       "1                Ship engineering  \n",
       "2                     Media, news  \n",
       "3                          Cement  \n",
       "4                       Machinery  \n",
       "..                            ...  \n",
       "475                  News channel  \n",
       "476      IT services and software  \n",
       "477                       Fintech  \n",
       "478  Business management software  \n",
       "479                 Food delivery  \n",
       "\n",
       "[480 rows x 6 columns]"
      ]
     },
     "execution_count": 48,
     "metadata": {},
     "output_type": "execute_result"
    }
   ],
   "source": [
    "df"
   ]
  },
  {
   "cell_type": "code",
   "execution_count": null,
   "id": "485621e5-2551-4c01-a6ff-6c4c229e8e31",
   "metadata": {},
   "outputs": [],
   "source": []
  },
  {
   "cell_type": "code",
   "execution_count": null,
   "id": "25c0d9e1-825e-49aa-afe4-a451e8b0ac76",
   "metadata": {},
   "outputs": [],
   "source": []
  },
  {
   "cell_type": "code",
   "execution_count": null,
   "id": "0364cc37-3c6a-40f4-84fa-a3546a7bf13a",
   "metadata": {},
   "outputs": [],
   "source": []
  }
 ],
 "metadata": {
  "kernelspec": {
   "display_name": "Python 3 (ipykernel)",
   "language": "python",
   "name": "python3"
  },
  "language_info": {
   "codemirror_mode": {
    "name": "ipython",
    "version": 3
   },
   "file_extension": ".py",
   "mimetype": "text/x-python",
   "name": "python",
   "nbconvert_exporter": "python",
   "pygments_lexer": "ipython3",
   "version": "3.10.1"
  }
 },
 "nbformat": 4,
 "nbformat_minor": 5
}
